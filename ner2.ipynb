{
 "cells": [
  {
   "cell_type": "code",
   "execution_count": 14,
   "id": "9a242437",
   "metadata": {},
   "outputs": [
    {
     "name": "stdout",
     "output_type": "stream",
     "text": [
      "Collecting en-core-web-sm==3.8.0\n",
      "  Downloading https://github.com/explosion/spacy-models/releases/download/en_core_web_sm-3.8.0/en_core_web_sm-3.8.0-py3-none-any.whl (12.8 MB)\n",
      "     ---------------------------------------- 0.0/12.8 MB ? eta -:--:--\n",
      "     ---------------------------------------- 0.0/12.8 MB ? eta -:--:--\n",
      "      --------------------------------------- 0.3/12.8 MB ? eta -:--:--\n",
      "     -- ------------------------------------- 0.8/12.8 MB 1.8 MB/s eta 0:00:07\n",
      "     --- ------------------------------------ 1.0/12.8 MB 1.6 MB/s eta 0:00:08\n",
      "     ---- ----------------------------------- 1.6/12.8 MB 1.7 MB/s eta 0:00:07\n",
      "     ----- ---------------------------------- 1.8/12.8 MB 1.8 MB/s eta 0:00:07\n",
      "     ------- -------------------------------- 2.4/12.8 MB 1.8 MB/s eta 0:00:06\n",
      "     --------- ------------------------------ 2.9/12.8 MB 1.9 MB/s eta 0:00:06\n",
      "     ---------- ----------------------------- 3.4/12.8 MB 2.0 MB/s eta 0:00:05\n",
      "     ------------ --------------------------- 3.9/12.8 MB 2.0 MB/s eta 0:00:05\n",
      "     ------------- -------------------------- 4.2/12.8 MB 2.0 MB/s eta 0:00:05\n",
      "     -------------- ------------------------- 4.7/12.8 MB 2.0 MB/s eta 0:00:05\n",
      "     --------------- ------------------------ 5.0/12.8 MB 1.9 MB/s eta 0:00:05\n",
      "     ----------------- ---------------------- 5.5/12.8 MB 2.0 MB/s eta 0:00:04\n",
      "     ------------------ --------------------- 6.0/12.8 MB 2.0 MB/s eta 0:00:04\n",
      "     --------------------- ------------------ 6.8/12.8 MB 2.1 MB/s eta 0:00:03\n",
      "     ---------------------- ----------------- 7.1/12.8 MB 2.1 MB/s eta 0:00:03\n",
      "     ----------------------- ---------------- 7.6/12.8 MB 2.1 MB/s eta 0:00:03\n",
      "     ------------------------- -------------- 8.1/12.8 MB 2.1 MB/s eta 0:00:03\n",
      "     --------------------------- ------------ 8.7/12.8 MB 2.1 MB/s eta 0:00:02\n",
      "     --------------------------- ------------ 8.9/12.8 MB 2.1 MB/s eta 0:00:02\n",
      "     ---------------------------- ----------- 9.2/12.8 MB 2.1 MB/s eta 0:00:02\n",
      "     ------------------------------ --------- 9.7/12.8 MB 2.0 MB/s eta 0:00:02\n",
      "     ------------------------------- -------- 10.0/12.8 MB 2.0 MB/s eta 0:00:02\n",
      "     ------------------------------- -------- 10.2/12.8 MB 2.0 MB/s eta 0:00:02\n",
      "     ------------------------------- -------- 10.2/12.8 MB 2.0 MB/s eta 0:00:02\n",
      "     --------------------------------- ------ 10.7/12.8 MB 1.9 MB/s eta 0:00:02\n",
      "     ---------------------------------- ----- 11.0/12.8 MB 1.9 MB/s eta 0:00:01\n",
      "     ------------------------------------ --- 11.5/12.8 MB 1.9 MB/s eta 0:00:01\n",
      "     -------------------------------------- - 12.3/12.8 MB 2.0 MB/s eta 0:00:01\n",
      "     ---------------------------------------- 12.8/12.8 MB 2.0 MB/s eta 0:00:00\n",
      "\u001b[38;5;2m✔ Download and installation successful\u001b[0m\n",
      "You can now load the package via spacy.load('en_core_web_sm')\n",
      "Entity: Apple, Label: ORG\n",
      "Entity: U.K., Label: GPE\n",
      "Entity: $1 billion, Label: MONEY\n"
     ]
    }
   ],
   "source": [
    "!python -m spacy download en_core_web_sm  \n",
    "import spacy\n",
    "from spacy import displacy\n",
    "nlp = spacy.load(\"en_core_web_sm\")\n",
    "text = \"Apple is looking at buying U.K. startup for $1 billion\"\n",
    "doc = nlp(text)\n",
    "for entity in doc.ents:\n",
    "    print(f\"Entity: {entity.text}, Label: {entity.label_}\")\n",
    "\n"
   ]
  }
 ],
 "metadata": {
  "kernelspec": {
   "display_name": "base",
   "language": "python",
   "name": "python3"
  },
  "language_info": {
   "codemirror_mode": {
    "name": "ipython",
    "version": 3
   },
   "file_extension": ".py",
   "mimetype": "text/x-python",
   "name": "python",
   "nbconvert_exporter": "python",
   "pygments_lexer": "ipython3",
   "version": "3.11.4"
  }
 },
 "nbformat": 4,
 "nbformat_minor": 5
}
