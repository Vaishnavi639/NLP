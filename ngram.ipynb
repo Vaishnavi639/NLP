{
 "cells": [
  {
   "cell_type": "code",
   "execution_count": 8,
   "id": "45fa0427",
   "metadata": {},
   "outputs": [
    {
     "name": "stderr",
     "output_type": "stream",
     "text": [
      "[nltk_data] Downloading package reuters to\n",
      "[nltk_data]     C:\\Users\\VAISHANAVI\\AppData\\Roaming\\nltk_data...\n",
      "[nltk_data]   Package reuters is already up-to-date!\n",
      "[nltk_data] Downloading package punkt to\n",
      "[nltk_data]     C:\\Users\\VAISHANAVI\\AppData\\Roaming\\nltk_data...\n",
      "[nltk_data]   Package punkt is already up-to-date!\n"
     ]
    },
    {
     "name": "stdout",
     "output_type": "stream",
     "text": [
      "next word: no prediction available\n",
      "\n",
      "Example word pairs from the model:\n",
      "(\"ASIANEXPORTERSFEARDAMAGEFROMU.S.-JAPANRIFTMountingtradefrictionbetweentheU.S.AndJapanhasraisedfearsamongmanyofAsia'sexportingnationsthattherowcouldinflictfar-reachingeconomicdamage\", ',')\n",
      "(',', 'businessmenandofficialssaid.TheytoldReutercorrespondentsinAsiancapitalsaU.S.MoveagainstJapanmightboostprotectionistsentimentintheU.S.AndleadtocurbsonAmericanimportsoftheirproducts.Butsomeexporterssaidthatwhiletheconflictwouldhurttheminthelong-run')\n",
      "('businessmenandofficialssaid.TheytoldReutercorrespondentsinAsiancapitalsaU.S.MoveagainstJapanmightboostprotectionistsentimentintheU.S.AndleadtocurbsonAmericanimportsoftheirproducts.Butsomeexporterssaidthatwhiletheconflictwouldhurttheminthelong-run', ',')\n",
      "(',', \"intheshort-termTokyo'slossmightbetheirgain.TheU.S.Hassaiditwillimpose300mlndlrsoftariffsonimportsofJapaneseelectronicsgoodsonApril17\")\n",
      "(\"intheshort-termTokyo'slossmightbetheirgain.TheU.S.Hassaiditwillimpose300mlndlrsoftariffsonimportsofJapaneseelectronicsgoodsonApril17\", ',')\n",
      "(',', \"inretaliationforJapan'sallegedfailuretosticktoapactnottosellsemiconductorsonworldmarketsatbelowcost.UnofficialJapaneseestimatesputtheimpactofthetariffsat10billiondlrsandspokesmenformajorelectronicsfirmssaidtheywouldvirtuallyhaltexportsofproductshitbythenewtaxes.\")\n",
      "(\"inretaliationforJapan'sallegedfailuretosticktoapactnottosellsemiconductorsonworldmarketsatbelowcost.UnofficialJapaneseestimatesputtheimpactofthetariffsat10billiondlrsandspokesmenformajorelectronicsfirmssaidtheywouldvirtuallyhaltexportsofproductshitbythenewtaxes.\", \"''\")\n",
      "(\"''\", \"Wewouldn'tbeabletodobusiness\")\n",
      "(\"Wewouldn'tbeabletodobusiness\", ',')\n",
      "(',', \"''\")\n"
     ]
    }
   ],
   "source": [
    "import nltk\n",
    "from nltk.util import trigrams\n",
    "from nltk.corpus import reuters\n",
    "from collections import defaultdict\n",
    "nltk.download('reuters')\n",
    "nltk.download('punkt')\n",
    "words=nltk.word_tokenize(''.join(reuters.words()))\n",
    "trigrams=list(trigrams(words))\n",
    "model=defaultdict(lambda: defaultdict(lambda: 0))\n",
    "for w1, w2, w3 in trigrams:\n",
    "    model[(w1, w2)][w3] += 1\n",
    "\n",
    "for w1_w2 in model:\n",
    "    total_count = float(sum(model[w1_w2].values()))\n",
    "    for w3 in model[w1_w2]:\n",
    "        model[w1_w2][w3] /= total_count\n",
    "def predict_next_word(w1_w2):\n",
    "    next_word=model[w1_w2]\n",
    "    if next_word:\n",
    "        predicted_word=max(next_word, key=next_word.get)\n",
    "        return predicted_word\n",
    "    else:\n",
    "        return \"no prediction available\"\n",
    "print(\"next word:\", predict_next_word(('stock', 'market')))\n",
    "\n",
    "print(\"\\nExample word pairs from the model:\")\n",
    "for pair in list(model.keys())[:10]:  # Print the first 10 word pairs\n",
    "    print(pair)\n",
    "    \n",
    "    "
   ]
  }
 ],
 "metadata": {
  "kernelspec": {
   "display_name": "base",
   "language": "python",
   "name": "python3"
  },
  "language_info": {
   "codemirror_mode": {
    "name": "ipython",
    "version": 3
   },
   "file_extension": ".py",
   "mimetype": "text/x-python",
   "name": "python",
   "nbconvert_exporter": "python",
   "pygments_lexer": "ipython3",
   "version": "3.11.4"
  }
 },
 "nbformat": 4,
 "nbformat_minor": 5
}
