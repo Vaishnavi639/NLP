{
 "cells": [
  {
   "cell_type": "code",
   "execution_count": 4,
   "id": "078f5827",
   "metadata": {},
   "outputs": [
    {
     "name": "stdout",
     "output_type": "stream",
     "text": [
      "\n",
      "Example text entities:\n",
      "Apple (ORG)\n",
      "Tim Cook (PERSON)\n",
      "U.K. (GPE)\n",
      "$1 billion (MONEY)\n",
      "\n",
      "Evaluation report:\n",
      "              precision    recall  f1-score   support\n",
      "\n",
      "         GPE       1.00      1.00      1.00         4\n",
      "        MISC       0.00      0.00      0.00         1\n",
      "       MONEY       1.00      1.00      1.00         2\n",
      "           O       0.00      0.00      0.00         0\n",
      "         ORG       1.00      1.00      1.00         4\n",
      "\n",
      "    accuracy                           0.91        11\n",
      "   macro avg       0.60      0.60      0.60        11\n",
      "weighted avg       0.91      0.91      0.91        11\n",
      "\n"
     ]
    }
   ],
   "source": [
    "import spacy\n",
    "from sklearn.metrics import classification_report\n",
    "\n",
    "def predict_entities(text):\n",
    "    nlp = spacy.load(\"en_core_web_sm\")\n",
    "    doc = nlp(text)\n",
    "    return [(ent.text, ent.label_) for ent in doc.ents]\n",
    "\n",
    "def evaluate_ner(text_and_labels):\n",
    "    true_labels = []\n",
    "    pred_labels = []\n",
    "    for text, true_ents in text_and_labels:\n",
    "        pred_ents = predict_entities(text)\n",
    "        true_labels.extend([label for _, label in true_ents])\n",
    "        if len(pred_ents) < len(true_ents):\n",
    "            pred_labels.extend([label for _, label in pred_ents] + [\"O\"] * (len(true_ents) - len(pred_ents)))  # Pad with \"O\"\n",
    "        else:\n",
    "            pred_labels.extend([label for _, label in pred_ents[:len(true_ents)]])  # Truncate to match length\n",
    "    return classification_report(true_labels, pred_labels, zero_division=0)\n",
    "\n",
    "text = \"Apple CEO Tim Cook is looking at buying U.K. startup for $1 billion\"\n",
    "print(\"\\nExample text entities:\")\n",
    "for entity, label in predict_entities(text):\n",
    "    print(f\"{entity} ({label})\")\n",
    "\n",
    "test_data = [\n",
    "    (\"Apple is looking at buying U.K. startup for $1 billion\", [(\"Apple\", \"ORG\"), (\"U.K.\", \"GPE\"), (\"$1 billion\", \"MONEY\")]),\n",
    "    (\"San Francisco considers banning sidewalk delivery robots\", [(\"San Francisco\", \"GPE\"), (\"sidewalk delivery robots\", \"MISC\")]),\n",
    "    (\"London is a big city in the U.K.\", [(\"London\", \"GPE\"), (\"U.K.\", \"GPE\")]),\n",
    "    (\"Google is a technology company\", [(\"Google\", \"ORG\")]),\n",
    "    (\"Microsoft is acquiring LinkedIn for $26.2 billion\", [(\"Microsoft\", \"ORG\"), (\"LinkedIn\", \"ORG\"), (\"$26.2 billion\", \"MONEY\")]),\n",
    "]\n",
    "print(\"\\nEvaluation report:\")\n",
    "print(evaluate_ner(test_data))"
   ]
  }
 ],
 "metadata": {
  "kernelspec": {
   "display_name": "base",
   "language": "python",
   "name": "python3"
  },
  "language_info": {
   "codemirror_mode": {
    "name": "ipython",
    "version": 3
   },
   "file_extension": ".py",
   "mimetype": "text/x-python",
   "name": "python",
   "nbconvert_exporter": "python",
   "pygments_lexer": "ipython3",
   "version": "3.11.4"
  }
 },
 "nbformat": 4,
 "nbformat_minor": 5
}
