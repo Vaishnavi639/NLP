{
 "cells": [
  {
   "cell_type": "code",
   "execution_count": 2,
   "id": "198160a1",
   "metadata": {},
   "outputs": [
    {
     "name": "stdout",
     "output_type": "stream",
     "text": [
      "  base word added morph   new word deleted morph new_word(after deletion)\n",
      "0      play         -ed     played           -ed                     play\n",
      "1       run        -ing    running          -ing                      run\n",
      "2     write         -er     writer           -er                    write\n",
      "3     happy       -ness  happiness         -ness                    happy\n"
     ]
    }
   ],
   "source": [
    "import pandas as pd\n",
    "data={\n",
    "    'base word': ['play','run','write','happy'],\n",
    "    'added morph': ['-ed','-ing','-er','-ness'],\n",
    "    'new word': ['played','running','writer','happiness'],\n",
    "    'deleted morph': ['-ed', '-ing', '-er', '-ness'],\n",
    "    'new_word(after deletion)': ['play','run','write','happy']\n",
    "}\n",
    "df=pd.DataFrame(data)\n",
    "print(df)"
   ]
  }
 ],
 "metadata": {
  "kernelspec": {
   "display_name": "base",
   "language": "python",
   "name": "python3"
  },
  "language_info": {
   "codemirror_mode": {
    "name": "ipython",
    "version": 3
   },
   "file_extension": ".py",
   "mimetype": "text/x-python",
   "name": "python",
   "nbconvert_exporter": "python",
   "pygments_lexer": "ipython3",
   "version": "3.11.4"
  }
 },
 "nbformat": 4,
 "nbformat_minor": 5
}
