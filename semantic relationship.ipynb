{
 "cells": [
  {
   "cell_type": "code",
   "execution_count": 3,
   "id": "a1b44374",
   "metadata": {},
   "outputs": [
    {
     "name": "stderr",
     "output_type": "stream",
     "text": [
      "[nltk_data] Downloading package wordnet to\n",
      "[nltk_data]     C:\\Users\\VAISHANAVI\\AppData\\Roaming\\nltk_data...\n",
      "[nltk_data]   Package wordnet is already up-to-date!\n",
      "[nltk_data] Downloading package omw-1.4 to\n",
      "[nltk_data]     C:\\Users\\VAISHANAVI\\AppData\\Roaming\\nltk_data...\n",
      "[nltk_data]   Package omw-1.4 is already up-to-date!\n"
     ]
    },
    {
     "name": "stdout",
     "output_type": "stream",
     "text": [
      "Word 1: cat\n",
      "Word 2: dog\n",
      "Synsets 1 definition: feline mammal usually having thick soft fur and no ability to roar: domestic cats; wildcats\n",
      "Synsets 2 definition: a member of the genus Canis (probably descended from the common wolf) that has been domesticated by man since prehistoric times; occurs in many breeds\n",
      "Similarity score: 0.8571428571428571\n",
      "Hypernyms of word 1: ['feline', 'felid']\n",
      "Hypernyms of word 2: ['canine', 'canid', 'domestic_animal', 'domesticated_animal']\n",
      "Hyponyms of word 1: ['domestic_cat', 'house_cat', 'Felis_domesticus', 'Felis_catus', 'wildcat']\n",
      "Hyponyms of word 2: ['basenji', 'corgi', 'Welsh_corgi', 'cur', 'mongrel', 'mutt', 'dalmatian', 'coach_dog', 'carriage_dog', 'Great_Pyrenees', 'griffon', 'Brussels_griffon', 'Belgian_griffon', 'hunting_dog', 'lapdog', 'Leonberg', 'Mexican_hairless', 'Newfoundland', 'Newfoundland_dog', 'pooch', 'doggie', 'doggy', 'barker', 'bow-wow', 'poodle', 'poodle_dog', 'pug', 'pug-dog', 'puppy', 'spitz', 'toy_dog', 'toy', 'working_dog']\n"
     ]
    }
   ],
   "source": [
    "import nltk\n",
    "from nltk.corpus import wordnet as wn\n",
    "nltk.download('wordnet')\n",
    "nltk.download('omw-1.4')\n",
    "def get_semantic_relationships(word1, word2):\n",
    "    synsets1=wn.synsets(word1)\n",
    "    synsets2=wn.synsets(word2)\n",
    "    if not synsets1 or not synsets2:\n",
    "        return f\"Semantic relationships could not be determined for '{word1}' and '{word2}'.\"\n",
    "    synsets1= synsets1[0]\n",
    "    synsets2= synsets2[0]\n",
    "    relationships = {\n",
    "        \"Word 1\": word1,\n",
    "        \"Word 2\": word2,\n",
    "        \"Synsets 1 definition\": synsets1.definition(),\n",
    "        \"Synsets 2 definition\": synsets2.definition(),\n",
    "        \"Similarity score\": synsets1.wup_similarity(synsets2),\n",
    "        \"Hypernyms of word 1\": [lemma.name() for hypernym in synsets1.hypernyms() for lemma in hypernym.lemmas()],\n",
    "        \"Hypernyms of word 2\": [lemma.name() for hypernym in synsets2.hypernyms() for lemma in hypernym.lemmas()],\n",
    "        \"Hyponyms of word 1\": [lemma.name() for hyponym in synsets1.hyponyms() for lemma in hyponym.lemmas()],  \n",
    "        \"Hyponyms of word 2\": [lemma.name() for hyponym in synsets2.hyponyms() for lemma in hyponym.lemmas()],\n",
    "    }\n",
    "    return relationships\n",
    "word1 = input(\"Enter the first word: \")\n",
    "word2 = input(\"Enter the second word: \")\n",
    "semantic_relationships = get_semantic_relationships(word1, word2)\n",
    "for key, value in semantic_relationships.items():\n",
    "    print(f\"{key}: {value}\")"
   ]
  }
 ],
 "metadata": {
  "kernelspec": {
   "display_name": "base",
   "language": "python",
   "name": "python3"
  },
  "language_info": {
   "codemirror_mode": {
    "name": "ipython",
    "version": 3
   },
   "file_extension": ".py",
   "mimetype": "text/x-python",
   "name": "python",
   "nbconvert_exporter": "python",
   "pygments_lexer": "ipython3",
   "version": "3.11.4"
  }
 },
 "nbformat": 4,
 "nbformat_minor": 5
}
