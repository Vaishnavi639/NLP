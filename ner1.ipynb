{
 "cells": [
  {
   "cell_type": "code",
   "execution_count": 2,
   "id": "43ca0f35",
   "metadata": {},
   "outputs": [
    {
     "name": "stdout",
     "output_type": "stream",
     "text": [
      "\n",
      "Example text entities:\n",
      "Apple (ORG)\n",
      "Tim Cook (PERSON)\n",
      "U.K. (GPE)\n",
      "$1 billion (MONEY)\n",
      "\n",
      "Evaluation report:\n",
      "              precision    recall  f1-score   support\n",
      "\n",
      "         GPE       1.00      1.00      1.00         3\n",
      "       MONEY       1.00      1.00      1.00         2\n",
      "         ORG       1.00      1.00      1.00         4\n",
      "\n",
      "    accuracy                           1.00         9\n",
      "   macro avg       1.00      1.00      1.00         9\n",
      "weighted avg       1.00      1.00      1.00         9\n",
      "\n"
     ]
    }
   ],
   "source": [
    "import spacy\n",
    "from sklearn.metrics import classification_report\n",
    "\n",
    "def predict_entities(text):\n",
    "    nlp = spacy.load(\"en_core_web_sm\")\n",
    "    doc = nlp(text)\n",
    "    return [(ent.text, ent.label_) for ent in doc.ents]\n",
    "\n",
    "def evaluate_ner(text_and_labels):\n",
    "    true_labels = []\n",
    "    pred_labels = []\n",
    "    for text, true_ents in text_and_labels:\n",
    "        pred_ents = predict_entities(text)\n",
    "        true_labels.extend([label for _, label in true_ents])\n",
    "        pred_labels.extend([label for _, label in pred_ents])\n",
    "    return classification_report(true_labels, pred_labels)\n",
    "        \n",
    "text = \"Apple CEO Tim Cook is looking at buying U.K. startup for $1 billion\"\n",
    "print(\"\\nExample text entities:\")\n",
    "for entity, label in predict_entities(text):\n",
    "    print(f\"{entity} ({label})\")\n",
    "\n",
    "test_data = [\n",
    "    (\"Apple is looking at buying U.K. startup for $1 billion\", [(\"Apple\", \"ORG\"), (\"U.K.\", \"GPE\"), (\"$1 billion\", \"MONEY\")]),\n",
    "    (\"London is a big city in the U.K.\", [(\"London\", \"GPE\"), (\"U.K.\", \"GPE\")]),\n",
    "    (\"Google is a technology company\", [(\"Google\", \"ORG\")]),\n",
    "    (\"Microsoft is acquiring LinkedIn for $26.2 billion\", [(\"Microsoft\", \"ORG\"), (\"LinkedIn\", \"ORG\"), (\"$26.2 billion\", \"MONEY\")]),\n",
    "]\n",
    "print(\"\\nEvaluation report:\")\n",
    "print(evaluate_ner(test_data))"
   ]
  }
 ],
 "metadata": {
  "kernelspec": {
   "display_name": "base",
   "language": "python",
   "name": "python3"
  },
  "language_info": {
   "codemirror_mode": {
    "name": "ipython",
    "version": 3
   },
   "file_extension": ".py",
   "mimetype": "text/x-python",
   "name": "python",
   "nbconvert_exporter": "python",
   "pygments_lexer": "ipython3",
   "version": "3.11.4"
  }
 },
 "nbformat": 4,
 "nbformat_minor": 5
}
